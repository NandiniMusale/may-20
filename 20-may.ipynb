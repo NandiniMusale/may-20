{
 "cells": [
  {
   "cell_type": "markdown",
   "id": "ea354e6d",
   "metadata": {},
   "source": [
    "Q.1.What are keywords in python? Using the keyword library, print all the python keywords.\n",
    "\n",
    "Ans: Key words are reserve words in python the have specific task to be done for example \"if\" is a keyword in python its task is to check the condition. keywords cannot be used as variables in python.\n"
   ]
  },
  {
   "cell_type": "code",
   "execution_count": 3,
   "id": "f54f90ae",
   "metadata": {},
   "outputs": [
    {
     "name": "stdout",
     "output_type": "stream",
     "text": [
      "the list keywords in python: \n",
      "['False', 'None', 'True', 'and', 'as', 'assert', 'async', 'await', 'break', 'class', 'continue', 'def', 'del', 'elif', 'else', 'except', 'finally', 'for', 'from', 'global', 'if', 'import', 'in', 'is', 'lambda', 'nonlocal', 'not', 'or', 'pass', 'raise', 'return', 'try', 'while', 'with', 'yield']\n"
     ]
    }
   ],
   "source": [
    "#to print the list of keywords we need to follow as\n",
    "import keyword\n",
    "print(\"the list keywords in python: \")\n",
    "print(keyword.kwlist)"
   ]
  },
  {
   "cell_type": "markdown",
   "id": "c496bca8",
   "metadata": {},
   "source": [
    "Q.2.What are the rules to create variables in python?\n",
    "\n",
    "Ans:The rules to create variables in python are\n",
    "\n",
    "1.A Python variable name must start with a letter or the underscore character.\n",
    "2.A Python variable name cannot start with a number.\n",
    "3.A Python variable name can only contain alpha-numeric characters and underscores (A-z, 0-9, and _ ).\n",
    "4.Variable in Python names are case-sensitive (name, Name, and NAME are three different variables).\n",
    "5.The keywords in Python cannot be used as name of the variable  in Python.\n"
   ]
  },
  {
   "cell_type": "markdown",
   "id": "a3d52357",
   "metadata": {},
   "source": [
    "Q.3.What are the standards and conventions followed for the nomenclature of variables in\n",
    "python to improve code readability and maintainability?\n",
    "\n",
    "some of the naming conventions of varible in python are:\n",
    "1.programmer need to use the relevent name to the variable for example if he creating a variable to read the age of the person he need to name the variable as age instead of giving other names\n",
    "\n",
    "2.programmer need to use underscore in between the name of the variable if the name of thr variable is more than two words.\n"
   ]
  },
  {
   "cell_type": "markdown",
   "id": "2fa6f629",
   "metadata": {},
   "source": [
    "Q.4. What will happen if a keyword is used as a variable name?\n",
    "\n",
    "Ans: When we use keyword as a variable name then we will get the syntax error"
   ]
  },
  {
   "cell_type": "code",
   "execution_count": 9,
   "id": "f444fa6e",
   "metadata": {},
   "outputs": [
    {
     "ename": "SyntaxError",
     "evalue": "invalid syntax (3198885066.py, line 1)",
     "output_type": "error",
     "traceback": [
      "\u001b[1;36m  Cell \u001b[1;32mIn[9], line 1\u001b[1;36m\u001b[0m\n\u001b[1;33m    break=2\u001b[0m\n\u001b[1;37m         ^\u001b[0m\n\u001b[1;31mSyntaxError\u001b[0m\u001b[1;31m:\u001b[0m invalid syntax\n"
     ]
    }
   ],
   "source": [
    "break=2\n",
    "print(break)"
   ]
  },
  {
   "cell_type": "markdown",
   "id": "66a27ab9",
   "metadata": {},
   "source": [
    "Q.5.For what purpose def keyword is used?\n",
    "\n",
    "Ans: def keyword is used to define a function, def is placed before the name of the function\n",
    "\n",
    "For example:\n",
    "def sum(a,b):\n",
    "    return a+b\n",
    "    \n",
    "\n"
   ]
  },
  {
   "cell_type": "markdown",
   "id": "9b2ac3c8",
   "metadata": {},
   "source": [
    "Q.6. What is the operation of this special character ‘\\’?\n",
    "\n",
    "Ans: In python \"\\\" is used as the escape character for example if we write the print statement as \n",
    "\n",
    "print(\"\"mumbai\" is one of the famous city in india\"\") we will get synatax error to fix this we use \"\\\" escape character \n",
    "\n",
    "print(\"\\\"mumbai\\\" is one of the famous city in india\")\n",
    "\n",
    "\n"
   ]
  },
  {
   "cell_type": "code",
   "execution_count": 11,
   "id": "1c7908d7",
   "metadata": {},
   "outputs": [
    {
     "ename": "SyntaxError",
     "evalue": "unterminated string literal (detected at line 1) (1125343636.py, line 1)",
     "output_type": "error",
     "traceback": [
      "\u001b[1;36m  Cell \u001b[1;32mIn[11], line 1\u001b[1;36m\u001b[0m\n\u001b[1;33m    print(\"\"mumabai\" is one of the famous city in india\"\"\u001b[0m\n\u001b[1;37m                                                        ^\u001b[0m\n\u001b[1;31mSyntaxError\u001b[0m\u001b[1;31m:\u001b[0m unterminated string literal (detected at line 1)\n"
     ]
    }
   ],
   "source": [
    "print(\"\"mumbai\" is one of the famous city in india\"\"\n"
   ]
  },
  {
   "cell_type": "code",
   "execution_count": 12,
   "id": "45f1c2e8",
   "metadata": {},
   "outputs": [
    {
     "name": "stdout",
     "output_type": "stream",
     "text": [
      "\"mumbai\" is one of the famous city in india\n"
     ]
    }
   ],
   "source": [
    "print(\"\\\"mumbai\\\" is one of the famous city in india\")\n"
   ]
  },
  {
   "cell_type": "markdown",
   "id": "858da996",
   "metadata": {},
   "source": [
    "Q.7. Give an example of the following conditions:\n",
    "(i) Homogeneous list\n",
    "(ii) Heterogeneous set\n",
    "(iii) Homogeneous tuple\n",
    "\n",
    "Ans:Homogeneous list:A homogeneous list is a list where all elements have the same data type. In Python, lists can contain elements of different data types, but a homogeneous list contains elements of the same data type.\n",
    "\n",
    "Heterogeneous set:A heterogeneous set is a set where the elements can have different data types. In Python set can contain elements of different data types.\n",
    "\n",
    "Homogeneous tuple:A homogeneous tuple is a tuple where all elements have the same data type.\n"
   ]
  },
  {
   "cell_type": "code",
   "execution_count": 35,
   "id": "855ba794",
   "metadata": {},
   "outputs": [
    {
     "name": "stdout",
     "output_type": "stream",
     "text": [
      "[1, 2, 3, 4, 5]\n",
      "{1, 'name', 1.2}\n",
      "(1, 2, 'school')\n"
     ]
    }
   ],
   "source": [
    "l=[1,2,3,4,5]\n",
    "s={\"name\",1,1.2}\n",
    "t=(1,2,\"school\")\n",
    "print(l)\n",
    "print(s)\n",
    "print(t)"
   ]
  },
  {
   "cell_type": "markdown",
   "id": "119ebab4",
   "metadata": {},
   "source": [
    "Q.8.Explain the mutable and immutable data types with proper explanation & examples?\n",
    "\n",
    "Ans:\n",
    "\n",
    "Mutable datatypes:\n",
    "\n",
    "Mutable datatypes can be changes after they are created \n",
    "\n",
    "Ex list,set,dictionay\n",
    "\n"
   ]
  },
  {
   "cell_type": "code",
   "execution_count": 13,
   "id": "b1a1b291",
   "metadata": {},
   "outputs": [
    {
     "name": "stdout",
     "output_type": "stream",
     "text": [
      "[1, 2, 3, 17, 5]\n"
     ]
    }
   ],
   "source": [
    "l=[1,2,3,4,5]\n",
    "l[3]=17   # we can change the value after creation \n",
    "print(l)"
   ]
  },
  {
   "cell_type": "code",
   "execution_count": 14,
   "id": "e99b3cc5",
   "metadata": {},
   "outputs": [
    {
     "name": "stdout",
     "output_type": "stream",
     "text": [
      "{1, 2, 3, 4, 5, 6}\n"
     ]
    }
   ],
   "source": [
    "s={1,2,3,4,5}\n",
    "s.add(6)\n",
    "print(s)"
   ]
  },
  {
   "cell_type": "code",
   "execution_count": 15,
   "id": "9299a24a",
   "metadata": {},
   "outputs": [
    {
     "name": "stdout",
     "output_type": "stream",
     "text": [
      "{'name': 'rama', 'age': 13, 'school': 'st Johns high school'}\n"
     ]
    }
   ],
   "source": [
    "d={\"name\":\"rama\",\"age\":13}\n",
    "d[\"school\"]=\"st Johns high school\"\n",
    "print(d)"
   ]
  },
  {
   "cell_type": "markdown",
   "id": "55562fff",
   "metadata": {},
   "source": [
    "Immutable datatypes:\n",
    "\n",
    "These datatypes cannot be chabges once the are creates if we try to do any changes like if we try to add or delete elements we will get errors.\n",
    "\n",
    "Example: tuple ,srting,int e.t.c\n",
    "\n",
    "\n"
   ]
  },
  {
   "cell_type": "code",
   "execution_count": 16,
   "id": "63c7df47",
   "metadata": {},
   "outputs": [
    {
     "ename": "TypeError",
     "evalue": "'tuple' object does not support item assignment",
     "output_type": "error",
     "traceback": [
      "\u001b[1;31m---------------------------------------------------------------------------\u001b[0m",
      "\u001b[1;31mTypeError\u001b[0m                                 Traceback (most recent call last)",
      "Cell \u001b[1;32mIn[16], line 2\u001b[0m\n\u001b[0;32m      1\u001b[0m t\u001b[38;5;241m=\u001b[39m(\u001b[38;5;241m1\u001b[39m,\u001b[38;5;241m2\u001b[39m,\u001b[38;5;241m3\u001b[39m,\u001b[38;5;241m4\u001b[39m,\u001b[38;5;241m5\u001b[39m)\n\u001b[1;32m----> 2\u001b[0m t[\u001b[38;5;241m3\u001b[39m]\u001b[38;5;241m=\u001b[39m\u001b[38;5;241m15\u001b[39m\n\u001b[0;32m      3\u001b[0m \u001b[38;5;28mprint\u001b[39m(t)\n",
      "\u001b[1;31mTypeError\u001b[0m: 'tuple' object does not support item assignment"
     ]
    }
   ],
   "source": [
    "t=(1,2,3,4,5)\n",
    "t[3]=15\n",
    "print(t)"
   ]
  },
  {
   "cell_type": "code",
   "execution_count": 17,
   "id": "8c650df2",
   "metadata": {},
   "outputs": [
    {
     "ename": "TypeError",
     "evalue": "'str' object does not support item assignment",
     "output_type": "error",
     "traceback": [
      "\u001b[1;31m---------------------------------------------------------------------------\u001b[0m",
      "\u001b[1;31mTypeError\u001b[0m                                 Traceback (most recent call last)",
      "Cell \u001b[1;32mIn[17], line 2\u001b[0m\n\u001b[0;32m      1\u001b[0m s\u001b[38;5;241m=\u001b[39m\u001b[38;5;124m\"\u001b[39m\u001b[38;5;124mbanglore\u001b[39m\u001b[38;5;124m\"\u001b[39m\n\u001b[1;32m----> 2\u001b[0m s[\u001b[38;5;241m3\u001b[39m]\u001b[38;5;241m=\u001b[39m\u001b[38;5;124m\"\u001b[39m\u001b[38;5;124mk\u001b[39m\u001b[38;5;124m\"\u001b[39m\n\u001b[0;32m      3\u001b[0m \u001b[38;5;28mprint\u001b[39m(s)\n",
      "\u001b[1;31mTypeError\u001b[0m: 'str' object does not support item assignment"
     ]
    }
   ],
   "source": [
    "s=\"banglore\"\n",
    "s[3]=\"k\"\n",
    "print(s)"
   ]
  },
  {
   "cell_type": "code",
   "execution_count": 18,
   "id": "32dd7d11",
   "metadata": {},
   "outputs": [
    {
     "name": "stdout",
     "output_type": "stream",
     "text": [
      "5\n",
      "    *\n",
      "   ***\n",
      "  *****\n",
      " *******\n",
      "*********\n"
     ]
    }
   ],
   "source": [
    "#Q.9. Write a code to create the given structure using only for loop.\n",
    "\n",
    "n=int(input())\n",
    "for i in range(1,n+1):\n",
    "    for j in range(n-i):\n",
    "        print(\" \",end=\"\")\n",
    "    for j in range(2*i-1):\n",
    "        print('*',end='')\n",
    "    print()\n"
   ]
  },
  {
   "cell_type": "code",
   "execution_count": 32,
   "id": "50ec3c4c",
   "metadata": {},
   "outputs": [
    {
     "name": "stdout",
     "output_type": "stream",
     "text": [
      "5\n",
      "|||||||||\n",
      " |||||||\n",
      "  |||||\n",
      "   |||\n",
      "    |\n"
     ]
    }
   ],
   "source": [
    "\n",
    "#.10. Write a code to create the given structure using while loop.\n",
    "\n",
    "\n",
    "n=int(input())\n",
    "for i in range(n,0,-1):\n",
    "    for j in range(n-i):\n",
    "        print(\" \",end=\"\")\n",
    "    for j in range((2*i)-1):\n",
    "        print(\"|\",end=\"\")\n",
    "    print()"
   ]
  },
  {
   "cell_type": "code",
   "execution_count": 34,
   "id": "f4d352d3",
   "metadata": {},
   "outputs": [
    {
     "name": "stdout",
     "output_type": "stream",
     "text": [
      "5\n",
      "|||||||||\n",
      " |||||||\n",
      "  |||||\n",
      "   |||\n",
      "    |\n"
     ]
    }
   ],
   "source": [
    "n = int(input())\n",
    "i = n\n",
    "while i >= 1:\n",
    "    j = n - i\n",
    "    while j > 0:\n",
    "        print(\" \", end=\"\")\n",
    "        j -= 1\n",
    "    j = (2 * i) - 1\n",
    "    while j > 0:\n",
    "        print(\"|\", end=\"\")\n",
    "        j -= 1\n",
    "    print()\n",
    "    i -= 1"
   ]
  },
  {
   "cell_type": "code",
   "execution_count": null,
   "id": "543469c8",
   "metadata": {},
   "outputs": [],
   "source": []
  },
  {
   "cell_type": "code",
   "execution_count": null,
   "id": "408a6160",
   "metadata": {},
   "outputs": [],
   "source": []
  }
 ],
 "metadata": {
  "kernelspec": {
   "display_name": "Python 3 (ipykernel)",
   "language": "python",
   "name": "python3"
  },
  "language_info": {
   "codemirror_mode": {
    "name": "ipython",
    "version": 3
   },
   "file_extension": ".py",
   "mimetype": "text/x-python",
   "name": "python",
   "nbconvert_exporter": "python",
   "pygments_lexer": "ipython3",
   "version": "3.10.9"
  }
 },
 "nbformat": 4,
 "nbformat_minor": 5
}
